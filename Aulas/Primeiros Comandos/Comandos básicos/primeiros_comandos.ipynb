{
 "cells": [
  {
   "cell_type": "code",
   "execution_count": null,
   "metadata": {},
   "outputs": [],
   "source": [
    "import requests\n",
    "api_token = '57fa4dfcad1a2b3e59b105225894d71c3cd0ff5b'\n",
    "base_url = 'https://api.pipedrive.com/v1/deals'\n",
    "params = {\n",
    "    'api_token': api_token\n",
    "}\n",
    "\n",
    "try:\n",
    "    response = requests.get(base_url, params=params)\n",
    "    response.raise_for_status()  # Verifica se houve algum erro na solicitação\n",
    "\n",
    "    data = response.json()\n",
    "    \n",
    "    if 'data' in data:\n",
    "        deals = data['data']\n",
    "        for deal in deals:\n",
    "            print(deal)\n",
    "    else:\n",
    "        print(\"Nenhum dado encontrado na resposta.\")\n",
    "        \n",
    "except requests.exceptions.HTTPError as http_err:\n",
    "    print(f\"Erro HTTP: {http_err}\")\n",
    "except requests.exceptions.RequestException as err:\n",
    "    print(f\"Erro na solicitação: {err}\")\n",
    "except ValueError as json_err:\n",
    "    print(f\"Erro ao processar JSON: {json_err}\")\n"
   ]
  }
 ],
 "metadata": {
  "kernelspec": {
   "display_name": "Python 3",
   "language": "python",
   "name": "python3"
  },
  "language_info": {
   "codemirror_mode": {
    "name": "ipython",
    "version": 3
   },
   "file_extension": ".py",
   "mimetype": "text/x-python",
   "name": "python",
   "nbconvert_exporter": "python",
   "pygments_lexer": "ipython3",
   "version": "3.12.3"
  }
 },
 "nbformat": 4,
 "nbformat_minor": 2
}
